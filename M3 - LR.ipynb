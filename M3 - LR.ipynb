{
 "cells": [
  {
   "cell_type": "markdown",
   "id": "367f7fd3",
   "metadata": {},
   "source": [
    "# LOGISTIC REGRESSION"
   ]
  },
  {
   "cell_type": "code",
   "execution_count": 1,
   "id": "707a30ea",
   "metadata": {},
   "outputs": [],
   "source": [
    "# Importing the libraries\n",
    "\n",
    "import pandas as pd\n",
    "import numpy as n\n",
    "import matplotlib.pyplot as plt"
   ]
  },
  {
   "cell_type": "code",
   "execution_count": 2,
   "id": "08cb36fa",
   "metadata": {},
   "outputs": [],
   "source": [
    "# ingnoring warning\n",
    "\n",
    "import warnings\n",
    "warnings.filterwarnings('ignore')"
   ]
  },
  {
   "cell_type": "code",
   "execution_count": 3,
   "id": "0d3dfd9c",
   "metadata": {},
   "outputs": [
    {
     "data": {
      "text/html": [
       "<div>\n",
       "<style scoped>\n",
       "    .dataframe tbody tr th:only-of-type {\n",
       "        vertical-align: middle;\n",
       "    }\n",
       "\n",
       "    .dataframe tbody tr th {\n",
       "        vertical-align: top;\n",
       "    }\n",
       "\n",
       "    .dataframe thead th {\n",
       "        text-align: right;\n",
       "    }\n",
       "</style>\n",
       "<table border=\"1\" class=\"dataframe\">\n",
       "  <thead>\n",
       "    <tr style=\"text-align: right;\">\n",
       "      <th></th>\n",
       "      <th>FileName</th>\n",
       "      <th>Date</th>\n",
       "      <th>SegFile</th>\n",
       "      <th>b</th>\n",
       "      <th>e</th>\n",
       "      <th>LBE</th>\n",
       "      <th>LB</th>\n",
       "      <th>AC</th>\n",
       "      <th>FM</th>\n",
       "      <th>UC</th>\n",
       "      <th>...</th>\n",
       "      <th>C</th>\n",
       "      <th>D</th>\n",
       "      <th>E</th>\n",
       "      <th>AD</th>\n",
       "      <th>DE</th>\n",
       "      <th>LD</th>\n",
       "      <th>FS</th>\n",
       "      <th>SUSP</th>\n",
       "      <th>CLASS</th>\n",
       "      <th>NSP</th>\n",
       "    </tr>\n",
       "  </thead>\n",
       "  <tbody>\n",
       "    <tr>\n",
       "      <th>0</th>\n",
       "      <td>Variab10.txt</td>\n",
       "      <td>12/1/1996</td>\n",
       "      <td>CTG0001.txt</td>\n",
       "      <td>240.0</td>\n",
       "      <td>357.0</td>\n",
       "      <td>120.0</td>\n",
       "      <td>120.0</td>\n",
       "      <td>0.0</td>\n",
       "      <td>0.0</td>\n",
       "      <td>0.0</td>\n",
       "      <td>...</td>\n",
       "      <td>0.0</td>\n",
       "      <td>0.0</td>\n",
       "      <td>0.0</td>\n",
       "      <td>0.0</td>\n",
       "      <td>0.0</td>\n",
       "      <td>0.0</td>\n",
       "      <td>1.0</td>\n",
       "      <td>0.0</td>\n",
       "      <td>9.0</td>\n",
       "      <td>2.0</td>\n",
       "    </tr>\n",
       "    <tr>\n",
       "      <th>1</th>\n",
       "      <td>Fmcs_1.txt</td>\n",
       "      <td>5/3/1996</td>\n",
       "      <td>CTG0002.txt</td>\n",
       "      <td>5.0</td>\n",
       "      <td>632.0</td>\n",
       "      <td>132.0</td>\n",
       "      <td>132.0</td>\n",
       "      <td>4.0</td>\n",
       "      <td>0.0</td>\n",
       "      <td>4.0</td>\n",
       "      <td>...</td>\n",
       "      <td>0.0</td>\n",
       "      <td>0.0</td>\n",
       "      <td>0.0</td>\n",
       "      <td>1.0</td>\n",
       "      <td>0.0</td>\n",
       "      <td>0.0</td>\n",
       "      <td>0.0</td>\n",
       "      <td>0.0</td>\n",
       "      <td>6.0</td>\n",
       "      <td>1.0</td>\n",
       "    </tr>\n",
       "    <tr>\n",
       "      <th>2</th>\n",
       "      <td>Fmcs_1.txt</td>\n",
       "      <td>5/3/1996</td>\n",
       "      <td>CTG0003.txt</td>\n",
       "      <td>177.0</td>\n",
       "      <td>779.0</td>\n",
       "      <td>133.0</td>\n",
       "      <td>133.0</td>\n",
       "      <td>2.0</td>\n",
       "      <td>0.0</td>\n",
       "      <td>5.0</td>\n",
       "      <td>...</td>\n",
       "      <td>0.0</td>\n",
       "      <td>0.0</td>\n",
       "      <td>0.0</td>\n",
       "      <td>1.0</td>\n",
       "      <td>0.0</td>\n",
       "      <td>0.0</td>\n",
       "      <td>0.0</td>\n",
       "      <td>0.0</td>\n",
       "      <td>6.0</td>\n",
       "      <td>1.0</td>\n",
       "    </tr>\n",
       "    <tr>\n",
       "      <th>3</th>\n",
       "      <td>Fmcs_1.txt</td>\n",
       "      <td>5/3/1996</td>\n",
       "      <td>CTG0004.txt</td>\n",
       "      <td>411.0</td>\n",
       "      <td>1192.0</td>\n",
       "      <td>134.0</td>\n",
       "      <td>134.0</td>\n",
       "      <td>2.0</td>\n",
       "      <td>0.0</td>\n",
       "      <td>6.0</td>\n",
       "      <td>...</td>\n",
       "      <td>0.0</td>\n",
       "      <td>0.0</td>\n",
       "      <td>0.0</td>\n",
       "      <td>1.0</td>\n",
       "      <td>0.0</td>\n",
       "      <td>0.0</td>\n",
       "      <td>0.0</td>\n",
       "      <td>0.0</td>\n",
       "      <td>6.0</td>\n",
       "      <td>1.0</td>\n",
       "    </tr>\n",
       "    <tr>\n",
       "      <th>4</th>\n",
       "      <td>Fmcs_1.txt</td>\n",
       "      <td>5/3/1996</td>\n",
       "      <td>CTG0005.txt</td>\n",
       "      <td>533.0</td>\n",
       "      <td>1147.0</td>\n",
       "      <td>132.0</td>\n",
       "      <td>132.0</td>\n",
       "      <td>4.0</td>\n",
       "      <td>0.0</td>\n",
       "      <td>5.0</td>\n",
       "      <td>...</td>\n",
       "      <td>0.0</td>\n",
       "      <td>0.0</td>\n",
       "      <td>0.0</td>\n",
       "      <td>0.0</td>\n",
       "      <td>0.0</td>\n",
       "      <td>0.0</td>\n",
       "      <td>0.0</td>\n",
       "      <td>0.0</td>\n",
       "      <td>2.0</td>\n",
       "      <td>1.0</td>\n",
       "    </tr>\n",
       "  </tbody>\n",
       "</table>\n",
       "<p>5 rows × 40 columns</p>\n",
       "</div>"
      ],
      "text/plain": [
       "       FileName       Date      SegFile      b       e    LBE     LB   AC  \\\n",
       "0  Variab10.txt  12/1/1996  CTG0001.txt  240.0   357.0  120.0  120.0  0.0   \n",
       "1    Fmcs_1.txt   5/3/1996  CTG0002.txt    5.0   632.0  132.0  132.0  4.0   \n",
       "2    Fmcs_1.txt   5/3/1996  CTG0003.txt  177.0   779.0  133.0  133.0  2.0   \n",
       "3    Fmcs_1.txt   5/3/1996  CTG0004.txt  411.0  1192.0  134.0  134.0  2.0   \n",
       "4    Fmcs_1.txt   5/3/1996  CTG0005.txt  533.0  1147.0  132.0  132.0  4.0   \n",
       "\n",
       "    FM   UC  ...    C    D    E   AD   DE   LD   FS  SUSP  CLASS  NSP  \n",
       "0  0.0  0.0  ...  0.0  0.0  0.0  0.0  0.0  0.0  1.0   0.0    9.0  2.0  \n",
       "1  0.0  4.0  ...  0.0  0.0  0.0  1.0  0.0  0.0  0.0   0.0    6.0  1.0  \n",
       "2  0.0  5.0  ...  0.0  0.0  0.0  1.0  0.0  0.0  0.0   0.0    6.0  1.0  \n",
       "3  0.0  6.0  ...  0.0  0.0  0.0  1.0  0.0  0.0  0.0   0.0    6.0  1.0  \n",
       "4  0.0  5.0  ...  0.0  0.0  0.0  0.0  0.0  0.0  0.0   0.0    2.0  1.0  \n",
       "\n",
       "[5 rows x 40 columns]"
      ]
     },
     "execution_count": 3,
     "metadata": {},
     "output_type": "execute_result"
    }
   ],
   "source": [
    "# Reading the dataset\n",
    "\n",
    "df=pd.read_csv('CTG.csv')\n",
    "df.head()"
   ]
  },
  {
   "cell_type": "code",
   "execution_count": 4,
   "id": "3b90003f",
   "metadata": {},
   "outputs": [
    {
     "name": "stdout",
     "output_type": "stream",
     "text": [
      "Shape:  (2129, 40)\n"
     ]
    }
   ],
   "source": [
    "# Shape\n",
    "\n",
    "print('Shape: ',df.shape)"
   ]
  },
  {
   "cell_type": "markdown",
   "id": "80297cdc",
   "metadata": {},
   "source": [
    "### FUTURE ENGINEERING"
   ]
  },
  {
   "cell_type": "code",
   "execution_count": 5,
   "id": "45bec5de",
   "metadata": {},
   "outputs": [
    {
     "data": {
      "text/plain": [
       "FileName    3\n",
       "Date        3\n",
       "SegFile     3\n",
       "b           3\n",
       "e           3\n",
       "LBE         3\n",
       "LB          3\n",
       "AC          3\n",
       "FM          2\n",
       "UC          2\n",
       "ASTV        2\n",
       "MSTV        2\n",
       "ALTV        2\n",
       "MLTV        2\n",
       "DL          1\n",
       "DS          1\n",
       "DP          1\n",
       "DR          1\n",
       "Width       3\n",
       "Min         3\n",
       "Max         3\n",
       "Nmax        3\n",
       "Nzeros      3\n",
       "Mode        3\n",
       "Mean        3\n",
       "Median      3\n",
       "Variance    3\n",
       "Tendency    3\n",
       "A           3\n",
       "B           3\n",
       "C           3\n",
       "D           3\n",
       "E           3\n",
       "AD          3\n",
       "DE          3\n",
       "LD          3\n",
       "FS          3\n",
       "SUSP        3\n",
       "CLASS       3\n",
       "NSP         3\n",
       "dtype: int64"
      ]
     },
     "execution_count": 5,
     "metadata": {},
     "output_type": "execute_result"
    }
   ],
   "source": [
    "# Checking removing null values\n",
    "\n",
    "df.isnull().sum()"
   ]
  },
  {
   "cell_type": "code",
   "execution_count": 6,
   "id": "94c7ae77",
   "metadata": {},
   "outputs": [
    {
     "data": {
      "text/plain": [
       "FileName    0\n",
       "Date        0\n",
       "SegFile     0\n",
       "b           0\n",
       "e           0\n",
       "LBE         0\n",
       "LB          0\n",
       "AC          0\n",
       "FM          0\n",
       "UC          0\n",
       "ASTV        0\n",
       "MSTV        0\n",
       "ALTV        0\n",
       "MLTV        0\n",
       "DL          0\n",
       "DS          0\n",
       "DP          0\n",
       "DR          0\n",
       "Width       0\n",
       "Min         0\n",
       "Max         0\n",
       "Nmax        0\n",
       "Nzeros      0\n",
       "Mode        0\n",
       "Mean        0\n",
       "Median      0\n",
       "Variance    0\n",
       "Tendency    0\n",
       "A           0\n",
       "B           0\n",
       "C           0\n",
       "D           0\n",
       "E           0\n",
       "AD          0\n",
       "DE          0\n",
       "LD          0\n",
       "FS          0\n",
       "SUSP        0\n",
       "CLASS       0\n",
       "NSP         0\n",
       "dtype: int64"
      ]
     },
     "execution_count": 6,
     "metadata": {},
     "output_type": "execute_result"
    }
   ],
   "source": [
    "# Removing null values\n",
    "\n",
    "df.dropna(inplace=True)\n",
    "\n",
    "df.isnull().sum()"
   ]
  },
  {
   "cell_type": "code",
   "execution_count": 7,
   "id": "647c4fc4",
   "metadata": {},
   "outputs": [
    {
     "name": "stdout",
     "output_type": "stream",
     "text": [
      "Shape:  (2126, 40)\n"
     ]
    }
   ],
   "source": [
    "# Shape after replacing missing values\n",
    "\n",
    "\n",
    "print('Shape: ',df.shape)"
   ]
  },
  {
   "cell_type": "code",
   "execution_count": 8,
   "id": "3a5424ff",
   "metadata": {},
   "outputs": [
    {
     "data": {
      "text/plain": [
       "0"
      ]
     },
     "execution_count": 8,
     "metadata": {},
     "output_type": "execute_result"
    }
   ],
   "source": [
    "# Checking duplicated values\n",
    "\n",
    "df.duplicated().sum()"
   ]
  },
  {
   "cell_type": "code",
   "execution_count": 9,
   "id": "b2bc3c64",
   "metadata": {},
   "outputs": [],
   "source": [
    "## Removing unwanted text column\n",
    "\n",
    "df.drop(columns=['FileName','Date','SegFile'], inplace=True)"
   ]
  },
  {
   "cell_type": "code",
   "execution_count": 10,
   "id": "54e18d3e",
   "metadata": {},
   "outputs": [
    {
     "name": "stdout",
     "output_type": "stream",
     "text": [
      "Shape:  (2126, 37)\n"
     ]
    }
   ],
   "source": [
    "# Shape after Droping columns\n",
    "\n",
    "\n",
    "print('Shape: ',df.shape)"
   ]
  },
  {
   "cell_type": "code",
   "execution_count": 11,
   "id": "a0a0e5e0",
   "metadata": {},
   "outputs": [
    {
     "name": "stdout",
     "output_type": "stream",
     "text": [
      "<class 'pandas.core.frame.DataFrame'>\n",
      "Int64Index: 2126 entries, 0 to 2125\n",
      "Data columns (total 37 columns):\n",
      " #   Column    Non-Null Count  Dtype  \n",
      "---  ------    --------------  -----  \n",
      " 0   b         2126 non-null   float64\n",
      " 1   e         2126 non-null   float64\n",
      " 2   LBE       2126 non-null   float64\n",
      " 3   LB        2126 non-null   float64\n",
      " 4   AC        2126 non-null   float64\n",
      " 5   FM        2126 non-null   float64\n",
      " 6   UC        2126 non-null   float64\n",
      " 7   ASTV      2126 non-null   float64\n",
      " 8   MSTV      2126 non-null   float64\n",
      " 9   ALTV      2126 non-null   float64\n",
      " 10  MLTV      2126 non-null   float64\n",
      " 11  DL        2126 non-null   float64\n",
      " 12  DS        2126 non-null   float64\n",
      " 13  DP        2126 non-null   float64\n",
      " 14  DR        2126 non-null   float64\n",
      " 15  Width     2126 non-null   float64\n",
      " 16  Min       2126 non-null   float64\n",
      " 17  Max       2126 non-null   float64\n",
      " 18  Nmax      2126 non-null   float64\n",
      " 19  Nzeros    2126 non-null   float64\n",
      " 20  Mode      2126 non-null   float64\n",
      " 21  Mean      2126 non-null   float64\n",
      " 22  Median    2126 non-null   float64\n",
      " 23  Variance  2126 non-null   float64\n",
      " 24  Tendency  2126 non-null   float64\n",
      " 25  A         2126 non-null   float64\n",
      " 26  B         2126 non-null   float64\n",
      " 27  C         2126 non-null   float64\n",
      " 28  D         2126 non-null   float64\n",
      " 29  E         2126 non-null   float64\n",
      " 30  AD        2126 non-null   float64\n",
      " 31  DE        2126 non-null   float64\n",
      " 32  LD        2126 non-null   float64\n",
      " 33  FS        2126 non-null   float64\n",
      " 34  SUSP      2126 non-null   float64\n",
      " 35  CLASS     2126 non-null   float64\n",
      " 36  NSP       2126 non-null   float64\n",
      "dtypes: float64(37)\n",
      "memory usage: 631.2 KB\n"
     ]
    }
   ],
   "source": [
    "# Checking dtype\n",
    "\n",
    "df.info()"
   ]
  },
  {
   "cell_type": "code",
   "execution_count": 12,
   "id": "ea180814",
   "metadata": {},
   "outputs": [],
   "source": [
    "# Splitting the data into x and y ( input and output )\n",
    "\n",
    "X=df.drop(columns='NSP', axis=1)\n",
    "y=df.loc[:,'NSP']"
   ]
  },
  {
   "cell_type": "code",
   "execution_count": 13,
   "id": "18796af6",
   "metadata": {},
   "outputs": [
    {
     "name": "stdout",
     "output_type": "stream",
     "text": [
      "Shape of X:  (2126, 36)\n",
      "Shape of Y:  (2126,)\n"
     ]
    }
   ],
   "source": [
    "# Shape of X and Y\n",
    "\n",
    "\n",
    "print('Shape of X: ',X.shape)\n",
    "print('Shape of Y: ', y.shape)"
   ]
  },
  {
   "cell_type": "code",
   "execution_count": 14,
   "id": "91765e97",
   "metadata": {},
   "outputs": [
    {
     "data": {
      "text/html": [
       "<div>\n",
       "<style scoped>\n",
       "    .dataframe tbody tr th:only-of-type {\n",
       "        vertical-align: middle;\n",
       "    }\n",
       "\n",
       "    .dataframe tbody tr th {\n",
       "        vertical-align: top;\n",
       "    }\n",
       "\n",
       "    .dataframe thead th {\n",
       "        text-align: right;\n",
       "    }\n",
       "</style>\n",
       "<table border=\"1\" class=\"dataframe\">\n",
       "  <thead>\n",
       "    <tr style=\"text-align: right;\">\n",
       "      <th></th>\n",
       "      <th>b</th>\n",
       "      <th>e</th>\n",
       "      <th>LBE</th>\n",
       "      <th>LB</th>\n",
       "      <th>AC</th>\n",
       "      <th>FM</th>\n",
       "      <th>UC</th>\n",
       "      <th>ASTV</th>\n",
       "      <th>MSTV</th>\n",
       "      <th>ALTV</th>\n",
       "      <th>...</th>\n",
       "      <th>B</th>\n",
       "      <th>C</th>\n",
       "      <th>D</th>\n",
       "      <th>E</th>\n",
       "      <th>AD</th>\n",
       "      <th>DE</th>\n",
       "      <th>LD</th>\n",
       "      <th>FS</th>\n",
       "      <th>SUSP</th>\n",
       "      <th>CLASS</th>\n",
       "    </tr>\n",
       "  </thead>\n",
       "  <tbody>\n",
       "    <tr>\n",
       "      <th>0</th>\n",
       "      <td>240.0</td>\n",
       "      <td>357.0</td>\n",
       "      <td>120.0</td>\n",
       "      <td>120.0</td>\n",
       "      <td>0.0</td>\n",
       "      <td>0.0</td>\n",
       "      <td>0.0</td>\n",
       "      <td>73.0</td>\n",
       "      <td>0.5</td>\n",
       "      <td>43.0</td>\n",
       "      <td>...</td>\n",
       "      <td>0.0</td>\n",
       "      <td>0.0</td>\n",
       "      <td>0.0</td>\n",
       "      <td>0.0</td>\n",
       "      <td>0.0</td>\n",
       "      <td>0.0</td>\n",
       "      <td>0.0</td>\n",
       "      <td>1.0</td>\n",
       "      <td>0.0</td>\n",
       "      <td>9.0</td>\n",
       "    </tr>\n",
       "    <tr>\n",
       "      <th>1</th>\n",
       "      <td>5.0</td>\n",
       "      <td>632.0</td>\n",
       "      <td>132.0</td>\n",
       "      <td>132.0</td>\n",
       "      <td>4.0</td>\n",
       "      <td>0.0</td>\n",
       "      <td>4.0</td>\n",
       "      <td>17.0</td>\n",
       "      <td>2.1</td>\n",
       "      <td>0.0</td>\n",
       "      <td>...</td>\n",
       "      <td>0.0</td>\n",
       "      <td>0.0</td>\n",
       "      <td>0.0</td>\n",
       "      <td>0.0</td>\n",
       "      <td>1.0</td>\n",
       "      <td>0.0</td>\n",
       "      <td>0.0</td>\n",
       "      <td>0.0</td>\n",
       "      <td>0.0</td>\n",
       "      <td>6.0</td>\n",
       "    </tr>\n",
       "    <tr>\n",
       "      <th>2</th>\n",
       "      <td>177.0</td>\n",
       "      <td>779.0</td>\n",
       "      <td>133.0</td>\n",
       "      <td>133.0</td>\n",
       "      <td>2.0</td>\n",
       "      <td>0.0</td>\n",
       "      <td>5.0</td>\n",
       "      <td>16.0</td>\n",
       "      <td>2.1</td>\n",
       "      <td>0.0</td>\n",
       "      <td>...</td>\n",
       "      <td>0.0</td>\n",
       "      <td>0.0</td>\n",
       "      <td>0.0</td>\n",
       "      <td>0.0</td>\n",
       "      <td>1.0</td>\n",
       "      <td>0.0</td>\n",
       "      <td>0.0</td>\n",
       "      <td>0.0</td>\n",
       "      <td>0.0</td>\n",
       "      <td>6.0</td>\n",
       "    </tr>\n",
       "    <tr>\n",
       "      <th>3</th>\n",
       "      <td>411.0</td>\n",
       "      <td>1192.0</td>\n",
       "      <td>134.0</td>\n",
       "      <td>134.0</td>\n",
       "      <td>2.0</td>\n",
       "      <td>0.0</td>\n",
       "      <td>6.0</td>\n",
       "      <td>16.0</td>\n",
       "      <td>2.4</td>\n",
       "      <td>0.0</td>\n",
       "      <td>...</td>\n",
       "      <td>0.0</td>\n",
       "      <td>0.0</td>\n",
       "      <td>0.0</td>\n",
       "      <td>0.0</td>\n",
       "      <td>1.0</td>\n",
       "      <td>0.0</td>\n",
       "      <td>0.0</td>\n",
       "      <td>0.0</td>\n",
       "      <td>0.0</td>\n",
       "      <td>6.0</td>\n",
       "    </tr>\n",
       "    <tr>\n",
       "      <th>4</th>\n",
       "      <td>533.0</td>\n",
       "      <td>1147.0</td>\n",
       "      <td>132.0</td>\n",
       "      <td>132.0</td>\n",
       "      <td>4.0</td>\n",
       "      <td>0.0</td>\n",
       "      <td>5.0</td>\n",
       "      <td>16.0</td>\n",
       "      <td>2.4</td>\n",
       "      <td>0.0</td>\n",
       "      <td>...</td>\n",
       "      <td>1.0</td>\n",
       "      <td>0.0</td>\n",
       "      <td>0.0</td>\n",
       "      <td>0.0</td>\n",
       "      <td>0.0</td>\n",
       "      <td>0.0</td>\n",
       "      <td>0.0</td>\n",
       "      <td>0.0</td>\n",
       "      <td>0.0</td>\n",
       "      <td>2.0</td>\n",
       "    </tr>\n",
       "  </tbody>\n",
       "</table>\n",
       "<p>5 rows × 36 columns</p>\n",
       "</div>"
      ],
      "text/plain": [
       "       b       e    LBE     LB   AC   FM   UC  ASTV  MSTV  ALTV  ...    B  \\\n",
       "0  240.0   357.0  120.0  120.0  0.0  0.0  0.0  73.0   0.5  43.0  ...  0.0   \n",
       "1    5.0   632.0  132.0  132.0  4.0  0.0  4.0  17.0   2.1   0.0  ...  0.0   \n",
       "2  177.0   779.0  133.0  133.0  2.0  0.0  5.0  16.0   2.1   0.0  ...  0.0   \n",
       "3  411.0  1192.0  134.0  134.0  2.0  0.0  6.0  16.0   2.4   0.0  ...  0.0   \n",
       "4  533.0  1147.0  132.0  132.0  4.0  0.0  5.0  16.0   2.4   0.0  ...  1.0   \n",
       "\n",
       "     C    D    E   AD   DE   LD   FS  SUSP  CLASS  \n",
       "0  0.0  0.0  0.0  0.0  0.0  0.0  1.0   0.0    9.0  \n",
       "1  0.0  0.0  0.0  1.0  0.0  0.0  0.0   0.0    6.0  \n",
       "2  0.0  0.0  0.0  1.0  0.0  0.0  0.0   0.0    6.0  \n",
       "3  0.0  0.0  0.0  1.0  0.0  0.0  0.0   0.0    6.0  \n",
       "4  0.0  0.0  0.0  0.0  0.0  0.0  0.0   0.0    2.0  \n",
       "\n",
       "[5 rows x 36 columns]"
      ]
     },
     "execution_count": 14,
     "metadata": {},
     "output_type": "execute_result"
    }
   ],
   "source": [
    "# DF of X\n",
    "\n",
    "X.head()"
   ]
  },
  {
   "cell_type": "code",
   "execution_count": 15,
   "id": "f08dbe63",
   "metadata": {},
   "outputs": [
    {
     "data": {
      "text/plain": [
       "0    2.0\n",
       "1    1.0\n",
       "2    1.0\n",
       "3    1.0\n",
       "4    1.0\n",
       "Name: NSP, dtype: float64"
      ]
     },
     "execution_count": 15,
     "metadata": {},
     "output_type": "execute_result"
    }
   ],
   "source": [
    "y.head()"
   ]
  },
  {
   "cell_type": "code",
   "execution_count": 16,
   "id": "5f57e48d",
   "metadata": {},
   "outputs": [
    {
     "data": {
      "text/plain": [
       "1.0    1655\n",
       "2.0     295\n",
       "3.0     176\n",
       "Name: NSP, dtype: int64"
      ]
     },
     "execution_count": 16,
     "metadata": {},
     "output_type": "execute_result"
    }
   ],
   "source": [
    "# Checking the dataset is balanced or not\n",
    "\n",
    "df['NSP'].value_counts()"
   ]
  },
  {
   "cell_type": "code",
   "execution_count": 17,
   "id": "bd206422",
   "metadata": {},
   "outputs": [],
   "source": [
    "# Since data is imbalanced\n",
    "# Trying over sampling\n",
    "\n",
    "X1=X.copy()\n",
    "y1=y.copy()\n",
    "\n",
    "from imblearn.over_sampling import RandomOverSampler\n",
    "\n",
    "rs=RandomOverSampler()\n",
    "X,y=rs.fit_resample(X,y)"
   ]
  },
  {
   "cell_type": "code",
   "execution_count": 18,
   "id": "d2b7b2b0",
   "metadata": {},
   "outputs": [
    {
     "name": "stdout",
     "output_type": "stream",
     "text": [
      "Shape of X and y before Sampling:\n",
      "X:  (2126, 36)\n",
      "Y:  (2126,)\n",
      " \n",
      "Shape of X and y before Sampling:\n",
      "X:  (4965, 36)\n",
      "Y:  (4965,)\n"
     ]
    }
   ],
   "source": [
    "# Shape after over sampling\n",
    "\n",
    "print('Shape of X and y before Sampling:')\n",
    "print('X: ',X1.shape)\n",
    "print('Y: ',y1.shape)\n",
    "\n",
    "print(\" \")\n",
    "\n",
    "print('Shape of X and y before Sampling:')\n",
    "print('X: ',X.shape)\n",
    "print('Y: ',y.shape)"
   ]
  },
  {
   "cell_type": "code",
   "execution_count": 19,
   "id": "747c483f",
   "metadata": {},
   "outputs": [],
   "source": [
    "# Since the no of columns is more\n",
    "# we need to reduce it\n",
    "# for this we are doing feature selection\n",
    "# This feature selection methods tell which column is better"
   ]
  },
  {
   "cell_type": "markdown",
   "id": "79892b6c",
   "metadata": {},
   "source": [
    "### Feature selection"
   ]
  },
  {
   "cell_type": "code",
   "execution_count": 20,
   "id": "44145f6d",
   "metadata": {},
   "outputs": [
    {
     "data": {
      "text/plain": [
       "ExtraTreesClassifier()"
      ]
     },
     "execution_count": 20,
     "metadata": {},
     "output_type": "execute_result"
    }
   ],
   "source": [
    "# 1. Using Feature Importance technique\n",
    "\n",
    "from sklearn.ensemble import ExtraTreesClassifier\n",
    "tree=ExtraTreesClassifier()\n",
    "tree.fit(X,y)"
   ]
  },
  {
   "cell_type": "code",
   "execution_count": 21,
   "id": "c4ab9128",
   "metadata": {},
   "outputs": [
    {
     "name": "stdout",
     "output_type": "stream",
     "text": [
      "[0.00461622 0.00657236 0.01367715 0.00757081 0.01294125 0.00374672\n",
      " 0.00568879 0.03182147 0.01002376 0.03886662 0.00717285 0.01061027\n",
      " 0.00021905 0.03308004 0.         0.01267287 0.01366631 0.00615489\n",
      " 0.00584139 0.00175066 0.01763059 0.02611328 0.02163092 0.011594\n",
      " 0.00499572 0.02287177 0.03286481 0.00074275 0.00355359 0.06745082\n",
      " 0.02020227 0.02032979 0.13117806 0.10106533 0.1292362  0.16184664]\n"
     ]
    }
   ],
   "source": [
    "print(tree.feature_importances_)"
   ]
  },
  {
   "cell_type": "code",
   "execution_count": 22,
   "id": "900eb3a5",
   "metadata": {},
   "outputs": [],
   "source": [
    "data=pd.Series(tree.feature_importances_)"
   ]
  },
  {
   "cell_type": "code",
   "execution_count": 23,
   "id": "051cbc20",
   "metadata": {},
   "outputs": [],
   "source": [
    "data.index=X.columns"
   ]
  },
  {
   "cell_type": "code",
   "execution_count": 24,
   "id": "53293688",
   "metadata": {},
   "outputs": [
    {
     "data": {
      "text/plain": [
       "b           0.004616\n",
       "e           0.006572\n",
       "LBE         0.013677\n",
       "LB          0.007571\n",
       "AC          0.012941\n",
       "FM          0.003747\n",
       "UC          0.005689\n",
       "ASTV        0.031821\n",
       "MSTV        0.010024\n",
       "ALTV        0.038867\n",
       "MLTV        0.007173\n",
       "DL          0.010610\n",
       "DS          0.000219\n",
       "DP          0.033080\n",
       "DR          0.000000\n",
       "Width       0.012673\n",
       "Min         0.013666\n",
       "Max         0.006155\n",
       "Nmax        0.005841\n",
       "Nzeros      0.001751\n",
       "Mode        0.017631\n",
       "Mean        0.026113\n",
       "Median      0.021631\n",
       "Variance    0.011594\n",
       "Tendency    0.004996\n",
       "A           0.022872\n",
       "B           0.032865\n",
       "C           0.000743\n",
       "D           0.003554\n",
       "E           0.067451\n",
       "AD          0.020202\n",
       "DE          0.020330\n",
       "LD          0.131178\n",
       "FS          0.101065\n",
       "SUSP        0.129236\n",
       "CLASS       0.161847\n",
       "dtype: float64"
      ]
     },
     "execution_count": 24,
     "metadata": {},
     "output_type": "execute_result"
    }
   ],
   "source": [
    "data"
   ]
  },
  {
   "cell_type": "code",
   "execution_count": 25,
   "id": "7fa7cec8",
   "metadata": {},
   "outputs": [
    {
     "data": {
      "text/plain": [
       "<function matplotlib.pyplot.show(close=None, block=None)>"
      ]
     },
     "execution_count": 25,
     "metadata": {},
     "output_type": "execute_result"
    },
    {
     "data": {
      "image/png": "[encoded data removed]",
      "text/plain": [
       "<Figure size 640x480 with 1 Axes>"
      ]
     },
     "metadata": {},
     "output_type": "display_data"
    }
   ],
   "source": [
    "data.nlargest(10).plot(kind='barh')\n",
    "plt.show"
   ]
  },
  {
   "cell_type": "code",
   "execution_count": 26,
   "id": "904bd620",
   "metadata": {},
   "outputs": [
    {
     "data": {
      "text/plain": [
       "Index(['CLASS', 'LD', 'SUSP', 'FS', 'E', 'ALTV', 'DP', 'B', 'ASTV', 'Mean'], dtype='object')"
      ]
     },
     "execution_count": 26,
     "metadata": {},
     "output_type": "execute_result"
    }
   ],
   "source": [
    "data.nlargest(10).index"
   ]
  },
  {
   "cell_type": "code",
   "execution_count": 27,
   "id": "0a8fecf4",
   "metadata": {},
   "outputs": [],
   "source": [
    "# Selecting only these columns\n",
    "\n",
    "X1=X.copy()\n",
    "y1=y.copy()\n",
    "\n",
    "X=X[data.nlargest(10).index]"
   ]
  },
  {
   "cell_type": "code",
   "execution_count": 28,
   "id": "84011963",
   "metadata": {},
   "outputs": [
    {
     "name": "stdout",
     "output_type": "stream",
     "text": [
      "Shape of X and y before Sampling:\n",
      "X:  (4965, 36)\n",
      "Y:  (4965,)\n",
      " \n",
      "Shape of X and y before Sampling:\n",
      "X:  (4965, 10)\n",
      "Y:  (4965,)\n"
     ]
    }
   ],
   "source": [
    "# Shape after feature selection\n",
    "\n",
    "print('Shape of X and y before Sampling:')\n",
    "print('X: ',X1.shape)\n",
    "print('Y: ',y1.shape)\n",
    "\n",
    "print(\" \")\n",
    "\n",
    "print('Shape of X and y before Sampling:')\n",
    "print('X: ',X.shape)\n",
    "print('Y: ',y.shape)"
   ]
  },
  {
   "cell_type": "markdown",
   "id": "b26c665e",
   "metadata": {},
   "source": [
    "### MODEL DEPLOYMENT"
   ]
  },
  {
   "cell_type": "code",
   "execution_count": 29,
   "id": "9fae75d0",
   "metadata": {},
   "outputs": [
    {
     "data": {
      "text/plain": [
       "((3475, 10), (1490, 10), (3475,), (1490,))"
      ]
     },
     "execution_count": 29,
     "metadata": {},
     "output_type": "execute_result"
    }
   ],
   "source": [
    "### Train test split\n",
    "\n",
    "from sklearn.model_selection import train_test_split\n",
    "\n",
    "X_train,X_test,y_train,y_test=train_test_split(X,y,test_size=0.3, random_state=42)\n",
    "\n",
    "X_train.shape, X_test.shape, y_train.shape, y_test.shape"
   ]
  },
  {
   "cell_type": "code",
   "execution_count": 30,
   "id": "26f249f8",
   "metadata": {},
   "outputs": [
    {
     "data": {
      "text/plain": [
       "LogisticRegression()"
      ]
     },
     "execution_count": 30,
     "metadata": {},
     "output_type": "execute_result"
    }
   ],
   "source": [
    "# Logistic regression\n",
    "\n",
    "from sklearn.linear_model import LogisticRegression\n",
    "\n",
    "lr=LogisticRegression()\n",
    "lr.fit(X_train,y_train)"
   ]
  },
  {
   "cell_type": "code",
   "execution_count": 31,
   "id": "5f759b28",
   "metadata": {},
   "outputs": [],
   "source": [
    "# y_predict\n",
    "\n",
    "y_predict=lr.predict(X_test)"
   ]
  },
  {
   "cell_type": "code",
   "execution_count": 32,
   "id": "9a557be6",
   "metadata": {},
   "outputs": [
    {
     "name": "stdout",
     "output_type": "stream",
     "text": [
      "accuracy: 94.96644295302013\n",
      "\n",
      "\n",
      "classification report:\n",
      "               precision    recall  f1-score   support\n",
      "\n",
      "         1.0       0.92      0.97      0.94       520\n",
      "         2.0       0.96      0.91      0.93       485\n",
      "         3.0       0.97      0.97      0.97       485\n",
      "\n",
      "    accuracy                           0.95      1490\n",
      "   macro avg       0.95      0.95      0.95      1490\n",
      "weighted avg       0.95      0.95      0.95      1490\n",
      "\n",
      "\n",
      "\n",
      "confusion matrix:\n",
      " [[504  11   5]\n",
      " [ 36 440   9]\n",
      " [  8   6 471]]\n"
     ]
    }
   ],
   "source": [
    "# metrics\n",
    "\n",
    "from sklearn.metrics import accuracy_score, classification_report, confusion_matrix, precision_score, recall_score\n",
    "\n",
    "accuracy=accuracy_score(y_test,y_predict)\n",
    "cr=classification_report(y_test,y_predict)\n",
    "cm=confusion_matrix(y_test,y_predict)\n",
    "\n",
    "print('accuracy: {}\\n\\n\\nclassification report:\\n {}\\n\\n\\nconfusion matrix:\\n {}'.format(accuracy*100,cr,cm))"
   ]
  },
  {
   "cell_type": "code",
   "execution_count": 33,
   "id": "6eca54c7",
   "metadata": {},
   "outputs": [
    {
     "name": "stdout",
     "output_type": "stream",
     "text": [
      "Confusion matrix:\n",
      "[[504  11   5]\n",
      " [ 36 440   9]\n",
      " [  8   6 471]]\n"
     ]
    },
    {
     "data": {
      "image/png": "[encoded data removed]",
      "text/plain": [
       "<Figure size 640x480 with 2 Axes>"
      ]
     },
     "metadata": {},
     "output_type": "display_data"
    }
   ],
   "source": [
    "def plot_confusion_matrix(cm, title='Confusion matrix', cmap=plt.cm.cool):\n",
    "    plt.imshow(cm, interpolation='nearest', cmap=cmap)\n",
    "    plt.title(title)\n",
    "    plt.colorbar()\n",
    "\n",
    "cm1=confusion_matrix(y_test, y_predict)\n",
    "print('Confusion matrix:')\n",
    "print(cm)\n",
    "plot_confusion_matrix(cm)"
   ]
  },
  {
   "cell_type": "code",
   "execution_count": 37,
   "id": "c0a3425e",
   "metadata": {},
   "outputs": [
    {
     "data": {
      "text/plain": [
       "['logr.pkl']"
      ]
     },
     "execution_count": 37,
     "metadata": {},
     "output_type": "execute_result"
    }
   ],
   "source": [
    "import joblib\n",
    "joblib.dump(lr,\"logr.pkl\")"
   ]
  },
  {
   "cell_type": "code",
   "execution_count": null,
   "id": "b43ea2ca",
   "metadata": {},
   "outputs": [],
   "source": []
  },
  {
   "cell_type": "code",
   "execution_count": null,
   "id": "e133d2b9",
   "metadata": {},
   "outputs": [],
   "source": []
  }
 ],
 "metadata": {
  "kernelspec": {
   "display_name": "Python 3 (ipykernel)",
   "language": "python",
   "name": "python3"
  },
  "language_info": {
   "codemirror_mode": {
    "name": "ipython",
    "version": 3
   },
   "file_extension": ".py",
   "mimetype": "text/x-python",
   "name": "python",
   "nbconvert_exporter": "python",
   "pygments_lexer": "ipython3",
   "version": "3.9.13"
  }
 },
 "nbformat": 4,
 "nbformat_minor": 5
}
